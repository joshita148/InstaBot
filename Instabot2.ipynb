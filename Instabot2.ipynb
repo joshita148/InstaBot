{
 "cells": [
  {
   "cell_type": "code",
   "execution_count": 1,
   "metadata": {},
   "outputs": [],
   "source": [
    "from selenium import webdriver\n",
    "from selenium.webdriver.support import expected_conditions as EC\n",
    "from selenium.webdriver.support.ui import WebDriverWait\n",
    "from selenium.webdriver.common.by import By\n",
    "from selenium.common.exceptions import TimeoutException\n",
    "from bs4 import BeautifulSoup\n",
    "from collections import OrderedDict \n",
    "import time\n",
    "from datetime import datetime, timedelta\n",
    "\n",
    "import pandas as pd\n",
    "import numpy as np\n",
    "import matplotlib.pyplot as plt"
   ]
  },
  {
   "cell_type": "code",
   "execution_count": 91,
   "metadata": {},
   "outputs": [],
   "source": [
    "driver = webdriver.Chrome(executable_path = 'C:\\\\Users\\\\JOSHITA\\\\.wdm\\\\drivers\\\\chromedriver\\\\win32\\\\96.0.4664.45\\\\chromedriver.exe')\n",
    "driver.maximize_window()"
   ]
  },
  {
   "cell_type": "code",
   "execution_count": 92,
   "metadata": {},
   "outputs": [],
   "source": [
    "driver.get('https://www.instagram.com/')"
   ]
  },
  {
   "cell_type": "code",
   "execution_count": 93,
   "metadata": {},
   "outputs": [],
   "source": [
    "username = 'SAMPLE USERNAME'\n",
    "password = 'PASSWORD'"
   ]
  },
  {
   "cell_type": "code",
   "execution_count": 94,
   "metadata": {},
   "outputs": [],
   "source": [
    "wait = WebDriverWait(driver, 10)"
   ]
  },
  {
   "cell_type": "code",
   "execution_count": 95,
   "metadata": {},
   "outputs": [],
   "source": [
    "def LogIn(username, password):\n",
    "    \n",
    "    #finding username box and sending username to it\n",
    "    user_name= wait.until(EC.presence_of_element_located((By.NAME, \"username\")))   \n",
    "    user_name.send_keys(username)\n",
    "    \n",
    "    #finding password box and sending password to it\n",
    "    pass_word= driver.find_element_by_name('password')\n",
    "    pass_word.send_keys(password)\n",
    "    \n",
    "    #submitting/login in\n",
    "    pass_word.submit()\n",
    "    \n",
    "    #closing 2 pop-ups by selecting not now option\n",
    "    not_now= wait.until(EC.presence_of_element_located((By.XPATH, '//div[@class= \"cmbtv\"]/button')))\n",
    "    not_now.click()\n",
    "    turn_on_notifications= wait.until(EC.presence_of_element_located((By.XPATH, '//div[@class= \"mt3GC\"]/button[last()]')))\n",
    "    turn_on_notifications.click()\n",
    "    "
   ]
  },
  {
   "cell_type": "code",
   "execution_count": 96,
   "metadata": {},
   "outputs": [],
   "source": [
    "LogIn(username, password)"
   ]
  },
  {
   "cell_type": "code",
   "execution_count": 116,
   "metadata": {},
   "outputs": [],
   "source": [
    "def search_open(s):\n",
    "    \n",
    "    #finding the search box and passing the string\n",
    "    search= driver.find_element_by_xpath('//div[@class=\" QY4Ed\"]/input')\n",
    "    search.send_keys(s)\n",
    "    \n",
    "    #clicking the first insta handle that appears\n",
    "    profile= wait.until(EC.presence_of_element_located((By.CLASS_NAME, '-qQT3')))\n",
    "    profile.click()\n",
    "    \n",
    "    time.sleep(5)"
   ]
  },
  {
   "cell_type": "markdown",
   "metadata": {},
   "source": [
    "# Problem 1\n"
   ]
  },
  {
   "cell_type": "markdown",
   "metadata": {},
   "source": [
    "### top5"
   ]
  },
  {
   "cell_type": "code",
   "execution_count": 12,
   "metadata": {},
   "outputs": [],
   "source": [
    "top10= ['food_lunatic','foodtalkindia','foodchrome','dilsefoodie','foodie_incarnate',\n",
    "        'fooditude_delhi','the food community','foodnetwork','fooodiehubb','yourfoodlab']"
   ]
  },
  {
   "cell_type": "code",
   "execution_count": 13,
   "metadata": {},
   "outputs": [],
   "source": [
    "def top_5_handles(lst):\n",
    "\n",
    "    #dct contains username with number of followers\n",
    "    dct = {}\n",
    "    for i in lst :\n",
    "        #This fuction will search a user and open that profile\n",
    "        search_open(i)\n",
    "\n",
    "        #locating followers of user\n",
    "        followers = wait.until(EC.presence_of_all_elements_located((By.CLASS_NAME,'g47SY')))[1]\n",
    "        #replacing ',' with '' and converted into int\n",
    "        dct[i] = int(followers.get_attribute('title').replace(',' , ''))\n",
    "        \n",
    "    #top 5 most followed user\n",
    "    count = 0\n",
    "    res = OrderedDict()\n",
    "    for i in sorted(dct, key=dct.get, reverse=True):\n",
    "        res[i] = dct[i]\n",
    "        count += 1\n",
    "        if(count >= 5) : \n",
    "            break\n",
    "                \n",
    "    return res"
   ]
  },
  {
   "cell_type": "code",
   "execution_count": 14,
   "metadata": {},
   "outputs": [],
   "source": [
    "top_handles = top_5_handles(top10)"
   ]
  },
  {
   "cell_type": "code",
   "execution_count": 15,
   "metadata": {},
   "outputs": [
    {
     "name": "stdout",
     "output_type": "stream",
     "text": [
      "Top 5 instagram handles which have the highest number of followers :\n",
      "\n",
      "foodnetwork with 12169000 followers\n",
      "yourfoodlab with 1843863 followers\n",
      "dilsefoodie with 944671 followers\n",
      "foodie_incarnate with 898017 followers\n",
      "foodtalkindia with 307491 followers\n"
     ]
    }
   ],
   "source": [
    "print('Top 5 instagram handles which have the highest number of followers :')\n",
    "print()\n",
    "for uname in top_handles:\n",
    "    print(uname,'with',top_handles[uname], 'followers')\n"
   ]
  },
  {
   "cell_type": "markdown",
   "metadata": {},
   "source": [
    "### number of posts done in past 3 days"
   ]
  },
  {
   "cell_type": "code",
   "execution_count": 71,
   "metadata": {},
   "outputs": [],
   "source": [
    "def count_of_post(day):\n",
    "    \n",
    "    #locating first post\n",
    "    post = wait.until(EC.presence_of_element_located((By.CLASS_NAME,'_9AhH0')))\n",
    "    post.click()\n",
    "        \n",
    "    count = 0 \n",
    "    while True :\n",
    "        \n",
    "        #getting date of the the post\n",
    "        time_tag = wait.until(EC.presence_of_element_located((By.TAG_NAME,'time')))\n",
    "        \n",
    "        #getting date in string format\n",
    "        date_string = time_tag.get_attribute('datetime').split('T')[0]\n",
    "        \n",
    "        #converting into date format\n",
    "        date= datetime.strptime(date_string, \"%Y-%m-%d\")\n",
    "        \n",
    "        #taking differnce between today's date and post posted date\n",
    "        if (datetime.now() - date).days > day :\n",
    "            break\n",
    "        else :\n",
    "            count += 1\n",
    "            \n",
    "        #locating next button\n",
    "        next_= driver.find_element_by_xpath('//div[starts-with(@class, \" l8mY4\")]//div')\n",
    "        next_.click()\n",
    "        time.sleep(1)\n",
    "\n",
    "    #closing the post\n",
    "    close=driver.find_element_by_class_name('qF0y9.Igw0E.IwRSH.eGOV_._4EzTm.BI4qX.qJPeX.fm1AK.TxciK.yiMZG')\n",
    "    close.click()\n",
    "    return count\n",
    "    "
   ]
  },
  {
   "cell_type": "code",
   "execution_count": 78,
   "metadata": {},
   "outputs": [],
   "source": [
    "total_post_count = {}\n",
    "for i in top_handles :\n",
    "    search_open(i)\n",
    "    time.sleep(2)\n",
    "    count = count_of_post(3)\n",
    "    total_post_count[i] = count"
   ]
  },
  {
   "cell_type": "code",
   "execution_count": 81,
   "metadata": {
    "tags": []
   },
   "outputs": [
    {
     "name": "stdout",
     "output_type": "stream",
     "text": [
      "Number of posts these handles have done in the previous 3 days : -\n",
      "\n",
      "foodnetwork with 31 posts\n",
      "yourfoodlab with 4 posts\n",
      "dilsefoodie with 3 posts\n",
      "foodie_incarnate with 4 posts\n",
      "foodtalkindia with 1 posts\n"
     ]
    }
   ],
   "source": [
    "print('Number of posts these handles have done in the previous 3 days : -')\n",
    "print()\n",
    "for i in total_post_count:\n",
    "    print(i,'with', total_post_count[i], 'posts')\n"
   ]
  },
  {
   "cell_type": "markdown",
   "metadata": {},
   "source": [
    "### graph"
   ]
  },
  {
   "cell_type": "code",
   "execution_count": 98,
   "metadata": {
    "tags": []
   },
   "outputs": [
    {
     "data": {
      "image/png": "[encoded data removed]",
      "text/plain": [
       "<Figure size 576x432 with 1 Axes>"
      ]
     },
     "metadata": {
      "needs_background": "light"
     },
     "output_type": "display_data"
    }
   ],
   "source": [
    "# using total_post_count to get username and number of post\n",
    "x = total_post_count.keys()\n",
    "y = total_post_count.values()\n",
    "\n",
    "plt.figure(figsize=(8, 6))\n",
    "plt.bar(x,y,color='lightblue')\n",
    "plt.ylabel(\"Number of posts in the past 3 days\",size=12, fontweight='bold',color='navy')\n",
    "plt.xlabel(\"Username\",size=12,fontweight= 'bold', color='navy')\n",
    "plt.title('TOP5 vs POSTS ',fontsize=20, color='navy',alpha=0.8)\n",
    "# plt.xticks(rotation = 45)\n",
    "plt.grid()\n"
   ]
  },
  {
   "cell_type": "markdown",
   "metadata": {},
   "source": [
    "# Problem 2"
   ]
  },
  {
   "cell_type": "markdown",
   "metadata": {},
   "source": [
    "## Hashtags"
   ]
  },
  {
   "cell_type": "code",
   "execution_count": 21,
   "metadata": {},
   "outputs": [],
   "source": [
    "def extract_content(lst):\n",
    "    \n",
    "    hashtags_list = []\n",
    "    for user in lst:\n",
    "        #This fuction will search a user and open that profile\n",
    "        search_open(user)\n",
    "        \n",
    "        #locating the first post of the user\n",
    "        post1 = wait.until(EC.presence_of_element_located((By.CLASS_NAME,'_9AhH0')))\n",
    "        post1.click()\n",
    "            \n",
    "            \n",
    "        for post in range(10):\n",
    "            \n",
    "            #locating hashtags in the post\n",
    "            hashtags=driver.find_elements_by_class_name(\"xil3i\")\n",
    "            \n",
    "            for hashtag in hashtags:\n",
    "                #appending in list\n",
    "                hashtags_list.append(hashtag.text) \n",
    "            \n",
    "            #locating and clicking on next button\n",
    "            next_= driver.find_element_by_xpath('//div[starts-with(@class, \" l8mY4\")]//div')\n",
    "            next_.click()\n",
    "            time.sleep(2)\n",
    "                \n",
    "        #closing the post\n",
    "        close=driver.find_element_by_class_name('qF0y9.Igw0E.IwRSH.eGOV_._4EzTm.BI4qX.qJPeX.fm1AK.TxciK.yiMZG')\n",
    "        close.click()\n",
    "        time.sleep(2)\n",
    "        \n",
    "    return hashtags_list\n"
   ]
  },
  {
   "cell_type": "code",
   "execution_count": 24,
   "metadata": {},
   "outputs": [],
   "source": [
    "handles = list(top_handles.keys())\n",
    "hashtags = extract_content(handles)"
   ]
  },
  {
   "cell_type": "code",
   "execution_count": 25,
   "metadata": {
    "tags": []
   },
   "outputs": [
    {
     "name": "stdout",
     "output_type": "stream",
     "text": [
      "['#GirlMeetsFarm', '#Black_Gold_platinum', '#HolidayBakingChampionship', '#HolidayCentral', '#discoveryplus', '#HolidayCentral', '#discoveryrise', '#TeamDuff', '#BuddyVsDuff', '#BuddyVsDuff', '#HolidayCentral', '#discoveryplus', '#TeamDuff', '#teamduff', '#SouthernKitchen', '#GiadaEntertains', '#discoveryplus', '#HereForTheHolidays', '#FoodNetworkObsessed', '#recipe', '#foodporn', '#indiancuisine', '#streetfood', '#rice', '#friedrice', '#burntchilligarlicfriedrice', '#promo', '#promovideo', '#homemade', '#ricerecipes', '#sanjyotkeer', '#foodgasm', '#yourfoodlab', '#recipe', '#foodporn', '#indiancuisine', '#streetfood', '#toasties', '#foodphotography', '#promo', '#indianfood', '#yourfoodlab', '#streetfoodindia', '#sanjyotkeer', '#foodie', '#foodgasm', '#foodlover', '#kulchas', '#kulchalover', '#amritsar', '#amritsarikulcha', '#streetfood', '#tipsandtricks', '#foodporn', '#specialchutney', '#specialrecipe', '#chutneyrecipe', '#sanjyotkeer', '#yourfoodlab', '#foodporn', '#recipe', '#foodporn', '#indiancuisine', '#streetfood', '#toasties', '#foodphotography', '#promo', '#indianfood', '#yourfoodlab', '#streetfoodindia', '#sanjyotkeer', '#foodie', '#foodgasm', '#foodlover', '#kulchas', '#kulchalover', '#amritsar', '#amritsarikulcha', '#streetfood', '#tipsandtricks', '#foodporn', '#specialchutney', '#specialrecipe', '#chutneyrecipe', '#sanjyotkeer', '#yourfoodlab', '#foodporn', '#recipe', '#foodie', '#chicken', '#chickenrecipes', '#chickentikka', '#foodporn', '#foodphotography', '#chickensofinstagram', '#sanjyotkeer', '#chickenlover', '#homemade', '#yourfoodlab', '#recipe', '#nonveg', '#nonvegetarian', '#easyrecipes', '#foodporn', '#streetfood', '#indiancuisine', '#curry', '#sanjyotkeer', '#eggrecipes', '#eggcurry', '#indianfood', '#yourfoodlab', '#recipe', '#foodie', '#indiancuisine', '#streetfood', '#foodporn', '#indiancurry', '#anda', '#eggcurry', '#eggrecipes', '#eggs', '#eggetarian', '#homemade', '#sanjyotkeer', '#foodporn', '#yourfoodlab', '#rolls', '#healthyfood', '#healthtips', '#healthyrecipes', '#healthyeating', '#foodporn', '#foodphotography', '#streetfood', '#indiancuisine', '#foodpics', '#sanjyotkeer', '#yourfoodlab', '#instagood', '#recipe', '#foodporn', '#streetfood', '#indiancuisine', '#foodblogger', '#foodpics', '#chakhna', '#homemade', '#yourfoodlab', '#streetfoodindia', '#sanjyotkeer', '#foodstyling', '#dilsefoodie', '#dilsecouple', '#dilsefoodie', '#dilsecouple', '#dilsefoodie', '#dilsecouple', '#dilsefoodie', '#dilsecouple', '#dilsefoodie', '#dilsecouple', '#dilsecouple❤️', '#dilsefoodie', '#dilsecouple', '#dilsefoodie', '#dilsecouple', '#dilsefoodie', '#dilsecouple', '#dilsefoodie', '#dilsecouple', '#dilsefoodie', '#dilsecouple', '#Foodieincarnate', '#Reelitfeelit', '#reelkarofeelkaro', '#reelsinstagram', '#reels', '#butter', '#amulbutter', '#nagpur', '#foodieincarnate', '#sodelhi', '#newdelhi', '#foodtalkindia', '#delhigram', '#indianfood', '#delhifoodblogger', '#foodgasm', '#foodporn', '#foodpornshare', '#foodlover', '#foodgram', '#foodiesofinstagram', '#foodie', '#indianstreetfood', '#streetfood', '#delhistreetfood', '#streetfoodindia', '#mumbaistreetfood', '#delhifoodie', '#foodblogger', '#indianfoodie', '#desikhana', '#indianfoodblogger', '#indianfoodbloggers', '#delhifood', '#mumbai', '#delhi', '#nagpur', '#dosa', '#Foodieincarnate', '#Reelitfeelit', '#reelkarofeelkaro', '#reelsinstagram', '#reels', '#chilla', '#pizza', '#viralfood', '#viralvideos', '#foodieincarnate', '#sodelhi', '#newdelhi', '#foodtalkindia', '#delhigram', '#indianfood', '#delhifoodblogger', '#foodgasm', '#foodporn', '#foodpornshare', '#foodlover', '#foodgram', '#foodiesofinstagram', '#foodie', '#indianstreetfood', '#streetfood', '#delhistreetfood', '#streetfoodindia', '#mumbaistreetfood', '#delhifoodie', '#foodblogger', '#indianfoodie', '#desikhana', '#indianfoodblogger', '#indianfoodbloggers', '#delhifood', '#mumbai', '#delhi', '#surat', '#icegola', '#foodieincarnate', '#sodelhi', '#newdelhi', '#foodtalkindia', '#delhigram', '#indianfood', '#delhifoodblogger', '#foodgasm', '#foodporn', '#foodpornshare', '#foodlover', '#foodgram', '#foodiesofinstagram', '#foodie', '#indianstreetfood', '#streetfood', '#delhistreetfood', '#streetfoodindia', '#mumbaistreetfood', '#delhifoodie', '#foodblogger', '#indianfoodie', '#desikhana', '#indianfoodblogger', '#indianfoodbloggers', '#delhifood', '#mumbai', '#delhi', '#ahmedabad', '#chorafali', '#Foodieincarnate', '#Reelitfeelit', '#reelkarofeelkaro', '#reelsinstagram', '#reels', '#streefood', '#kolkata', '#hardwork', '#viralfood', '#viralvideos', '#breadpakoda', '#foodieincarnate', '#sodelhi', '#newdelhi', '#foodtalkindia', '#delhigram', '#indianfood', '#olddelhi', '#halwa', '#gajarkahalwa', '#foodporn', '#sweettooth', '#delhite', '#delhifoodblogger', '#mithai', '#indiansweets', '#dessert', '#indianstreetfood', '#southindianfood', '#indiancuisine', '#desikhana', '#foodblogger', '#travelfood', '#streetfood', '#breakfastgoals', '#foodcoma', '#gulabjamun', '#carrot', '#carrotcake', '#thali', '#dessert', '#foodieincarnate', '#sodelhi', '#newdelhi', '#foodtalkindia', '#delhigram', '#indianfood', '#delhifoodblogger', '#foodgasm', '#foodporn', '#foodpornshare', '#foodlover', '#foodgram', '#foodiesofinstagram', '#foodie', '#indianstreetfood', '#streetfood', '#delhistreetfood', '#streetfoodindia', '#mumbaistreetfood', '#delhifoodie', '#foodblogger', '#indianfoodie', '#desikhana', '#indianfoodblogger', '#indianfoodbloggers', '#delhifood', '#mumbai', '#delhi', '#momo', '#momochallenge', '#Foodieincarnate', '#Reelitfeelit', '#reelkarofeelkaro', '#reelsinstagram', '#reels', '#streetfood', '#lassi', '#surat', '#viralfood', '#reelfood', '#foodieincarnate', '#sodelhi', '#foodtalkindia', '#desifood', '#newdelhi', '#delhigram', '#pinni', '#laddu', '#kajuatli', '#mithai', '#punjabifood', '#rasgulla', '#desighee', '#almonds', '#badam', '#healthyfoodideas', '#laddoo', '#indiansweets', '#amritsari', '#pakistanifood', '#winterfood', '#proteinrich', '#delhi_igers', '#somumbai', '#sokolkata', '#indianfoodie', '#amritsar', '#delhi_iger', '#amritsarifood', '#ambarsar', '#HotFind', '#burgers', '#GIVEAWAYALERT', '#foodtalkindia', '#foodtalk', '#festival', '#music', '#earthen', '#giveaway', '#contest', '#freepass', '#musicfestival', '#instagood', '#instamusic', '#instagiveaway', '#foodtalkindia❤️', '#discoverhongkong', '#LanternsOverHongKong', '#hk', '#hongkong', '#hkcocktails', '#sustainablecocktails', '#zerowastecocktail', '#cocktails', '#discoverhongkong', '#hongkongnegroni', '#foodtalkindia', '#foodtalk', '#drinks', '#cocktail', '#hongkong', '#hk', '#drinking', '#drink', '#cocktails', '#negroni', '#sustainablecocktails', '#zerowastecocktail', '#hkstylemilktea', '#discoverhongkong', '#foodtalkindia', '#foodtalk', '#drinks', '#cocktail', '#hongkong', '#hk', '#milktea', '#drinking', '#drink', '#cocktails', '#HotFind', '#Pizza', '#foodtalkindia', '#foodtalk', '#fti', '#food', '#foodie', '#foodies', '#foodporn', '#foodgram', '#foodblogger', '#pizza', '#pizzalover', '#delhi', '#delhifoodie', '#delhifood', '#HotFind', '#BudgetWhiskies', '#foodtalkindia', '#foodtalk', '#food', '#drink', '#foodies', '#drinks', '#whiskey', '#whiskeylover', '#drinking', '#hotfind', '#budget', '#budgetfriendly', '#foodtalkindia', '#foodtalk', '#fastfood', '#foodie', '#food', '#delicious', '#chooseone', '#foodporn', '#foodgram', '#yummyfood']\n"
     ]
    }
   ],
   "source": [
    "print(hashtags)"
   ]
  },
  {
   "cell_type": "markdown",
   "metadata": {},
   "source": [
    "## Frequency"
   ]
  },
  {
   "cell_type": "code",
   "execution_count": 26,
   "metadata": {
    "collapsed": true,
    "jupyter": {
     "outputs_hidden": true
    },
    "tags": []
   },
   "outputs": [
    {
     "name": "stdout",
     "output_type": "stream",
     "text": [
      "#foodporn 20\n",
      "#streetfood 15\n",
      "#foodtalkindia 12\n",
      "#sanjyotkeer 10\n",
      "#yourfoodlab 10\n",
      "#foodie 10\n",
      "#dilsefoodie 10\n",
      "#dilsecouple 10\n",
      "#indiancuisine 8\n",
      "#indianfood 8\n",
      "#recipe 7\n",
      "#foodgasm 7\n",
      "#streetfoodindia 7\n",
      "#foodblogger 7\n",
      "#foodlover 6\n",
      "#foodieincarnate 6\n",
      "#sodelhi 6\n",
      "#newdelhi 6\n",
      "#delhigram 6\n",
      "#foodgram 6\n",
      "#foodtalk 6\n",
      "#delhifoodblogger 5\n",
      "#indianstreetfood 5\n",
      "#delhifoodie 5\n",
      "#indianfoodie 5\n",
      "#desikhana 5\n",
      "#delhifood 5\n",
      "#delhi 5\n",
      "#homemade 4\n",
      "#foodphotography 4\n",
      "#Foodieincarnate 4\n",
      "#Reelitfeelit 4\n",
      "#reelkarofeelkaro 4\n",
      "#reelsinstagram 4\n",
      "#reels 4\n",
      "#foodpornshare 4\n",
      "#foodiesofinstagram 4\n",
      "#delhistreetfood 4\n",
      "#mumbaistreetfood 4\n",
      "#indianfoodblogger 4\n",
      "#indianfoodbloggers 4\n",
      "#mumbai 4\n",
      "#HolidayCentral 3\n",
      "#discoveryplus 3\n",
      "#promo 3\n",
      "#amritsar 3\n",
      "#viralfood 3\n",
      "#HotFind 3\n",
      "#discoverhongkong 3\n",
      "#hk 3\n",
      "#hongkong 3\n",
      "#cocktails 3\n",
      "#drinks 3\n",
      "#drinking 3\n",
      "#drink 3\n",
      "#food 3\n",
      "#TeamDuff 2\n",
      "#BuddyVsDuff 2\n",
      "#toasties 2\n",
      "#kulchas 2\n",
      "#kulchalover 2\n",
      "#amritsarikulcha 2\n",
      "#tipsandtricks 2\n",
      "#specialchutney 2\n",
      "#specialrecipe 2\n",
      "#chutneyrecipe 2\n",
      "#eggrecipes 2\n",
      "#eggcurry 2\n",
      "#foodpics 2\n",
      "#instagood 2\n",
      "#nagpur 2\n",
      "#pizza 2\n",
      "#viralvideos 2\n",
      "#surat 2\n",
      "#mithai 2\n",
      "#indiansweets 2\n",
      "#dessert 2\n",
      "#sustainablecocktails 2\n",
      "#zerowastecocktail 2\n",
      "#cocktail 2\n",
      "#foodies 2\n",
      "#GirlMeetsFarm 1\n",
      "#Black_Gold_platinum 1\n",
      "#HolidayBakingChampionship 1\n",
      "#discoveryrise 1\n",
      "#teamduff 1\n",
      "#SouthernKitchen 1\n",
      "#GiadaEntertains 1\n",
      "#HereForTheHolidays 1\n",
      "#FoodNetworkObsessed 1\n",
      "#rice 1\n",
      "#friedrice 1\n",
      "#burntchilligarlicfriedrice 1\n",
      "#promovideo 1\n",
      "#ricerecipes 1\n",
      "#chicken 1\n",
      "#chickenrecipes 1\n",
      "#chickentikka 1\n",
      "#chickensofinstagram 1\n",
      "#chickenlover 1\n",
      "#nonveg 1\n",
      "#nonvegetarian 1\n",
      "#easyrecipes 1\n",
      "#curry 1\n",
      "#indiancurry 1\n",
      "#anda 1\n",
      "#eggs 1\n",
      "#eggetarian 1\n",
      "#rolls 1\n",
      "#healthyfood 1\n",
      "#healthtips 1\n",
      "#healthyrecipes 1\n",
      "#healthyeating 1\n",
      "#chakhna 1\n",
      "#foodstyling 1\n",
      "#dilsecouple❤️ 1\n",
      "#butter 1\n",
      "#amulbutter 1\n",
      "#dosa 1\n",
      "#chilla 1\n",
      "#icegola 1\n",
      "#ahmedabad 1\n",
      "#chorafali 1\n",
      "#streefood 1\n",
      "#kolkata 1\n",
      "#hardwork 1\n",
      "#breadpakoda 1\n",
      "#olddelhi 1\n",
      "#halwa 1\n",
      "#gajarkahalwa 1\n",
      "#sweettooth 1\n",
      "#delhite 1\n",
      "#southindianfood 1\n",
      "#travelfood 1\n",
      "#breakfastgoals 1\n",
      "#foodcoma 1\n",
      "#gulabjamun 1\n",
      "#carrot 1\n",
      "#carrotcake 1\n",
      "#thali 1\n",
      "#momo 1\n",
      "#momochallenge 1\n",
      "#lassi 1\n",
      "#reelfood 1\n",
      "#desifood 1\n",
      "#pinni 1\n",
      "#laddu 1\n",
      "#kajuatli 1\n",
      "#punjabifood 1\n",
      "#rasgulla 1\n",
      "#desighee 1\n",
      "#almonds 1\n",
      "#badam 1\n",
      "#healthyfoodideas 1\n",
      "#laddoo 1\n",
      "#amritsari 1\n",
      "#pakistanifood 1\n",
      "#winterfood 1\n",
      "#proteinrich 1\n",
      "#delhi_igers 1\n",
      "#somumbai 1\n",
      "#sokolkata 1\n",
      "#delhi_iger 1\n",
      "#amritsarifood 1\n",
      "#ambarsar 1\n",
      "#burgers 1\n",
      "#GIVEAWAYALERT 1\n",
      "#festival 1\n",
      "#music 1\n",
      "#earthen 1\n",
      "#giveaway 1\n",
      "#contest 1\n",
      "#freepass 1\n",
      "#musicfestival 1\n",
      "#instamusic 1\n",
      "#instagiveaway 1\n",
      "#foodtalkindia❤️ 1\n",
      "#LanternsOverHongKong 1\n",
      "#hkcocktails 1\n",
      "#hongkongnegroni 1\n",
      "#negroni 1\n",
      "#hkstylemilktea 1\n",
      "#milktea 1\n",
      "#Pizza 1\n",
      "#fti 1\n",
      "#pizzalover 1\n",
      "#BudgetWhiskies 1\n",
      "#whiskey 1\n",
      "#whiskeylover 1\n",
      "#hotfind 1\n",
      "#budget 1\n",
      "#budgetfriendly 1\n",
      "#fastfood 1\n",
      "#delicious 1\n",
      "#chooseone 1\n",
      "#yummyfood 1\n"
     ]
    }
   ],
   "source": [
    "dct = {}\n",
    "words_list = []\n",
    "for word in hashtags:\n",
    "    dct[word] = dct.get(word,0) + 1\n",
    "    \n",
    "for i in sorted(dct, key=dct.get, reverse=True):\n",
    "    words_list.append([i,dct[i]])\n",
    "    print(i,dct[i])\n"
   ]
  },
  {
   "cell_type": "markdown",
   "metadata": {},
   "source": [
    "## making dataframe and csv file"
   ]
  },
  {
   "cell_type": "code",
   "execution_count": 43,
   "metadata": {},
   "outputs": [],
   "source": [
    "df = pd.DataFrame(dct.items(), columns=['Hashtag','Frequency'])"
   ]
  },
  {
   "cell_type": "code",
   "execution_count": 44,
   "metadata": {},
   "outputs": [
    {
     "data": {
      "text/html": [
       "<div>\n",
       "<style scoped>\n",
       "    .dataframe tbody tr th:only-of-type {\n",
       "        vertical-align: middle;\n",
       "    }\n",
       "\n",
       "    .dataframe tbody tr th {\n",
       "        vertical-align: top;\n",
       "    }\n",
       "\n",
       "    .dataframe thead th {\n",
       "        text-align: right;\n",
       "    }\n",
       "</style>\n",
       "<table border=\"1\" class=\"dataframe\">\n",
       "  <thead>\n",
       "    <tr style=\"text-align: right;\">\n",
       "      <th></th>\n",
       "      <th>Hashtag</th>\n",
       "      <th>Frequency</th>\n",
       "    </tr>\n",
       "  </thead>\n",
       "  <tbody>\n",
       "    <tr>\n",
       "      <th>14</th>\n",
       "      <td>#foodporn</td>\n",
       "      <td>20</td>\n",
       "    </tr>\n",
       "    <tr>\n",
       "      <th>16</th>\n",
       "      <td>#streetfood</td>\n",
       "      <td>15</td>\n",
       "    </tr>\n",
       "    <tr>\n",
       "      <th>80</th>\n",
       "      <td>#foodtalkindia</td>\n",
       "      <td>12</td>\n",
       "    </tr>\n",
       "    <tr>\n",
       "      <th>31</th>\n",
       "      <td>#foodie</td>\n",
       "      <td>10</td>\n",
       "    </tr>\n",
       "    <tr>\n",
       "      <th>24</th>\n",
       "      <td>#sanjyotkeer</td>\n",
       "      <td>10</td>\n",
       "    </tr>\n",
       "    <tr>\n",
       "      <th>...</th>\n",
       "      <td>...</td>\n",
       "      <td>...</td>\n",
       "    </tr>\n",
       "    <tr>\n",
       "      <th>1</th>\n",
       "      <td>#Black_Gold_platinum</td>\n",
       "      <td>1</td>\n",
       "    </tr>\n",
       "    <tr>\n",
       "      <th>97</th>\n",
       "      <td>#dosa</td>\n",
       "      <td>1</td>\n",
       "    </tr>\n",
       "    <tr>\n",
       "      <th>75</th>\n",
       "      <td>#amulbutter</td>\n",
       "      <td>1</td>\n",
       "    </tr>\n",
       "    <tr>\n",
       "      <th>74</th>\n",
       "      <td>#butter</td>\n",
       "      <td>1</td>\n",
       "    </tr>\n",
       "    <tr>\n",
       "      <th>195</th>\n",
       "      <td>#yummyfood</td>\n",
       "      <td>1</td>\n",
       "    </tr>\n",
       "  </tbody>\n",
       "</table>\n",
       "<p>196 rows × 2 columns</p>\n",
       "</div>"
      ],
      "text/plain": [
       "                  Hashtag  Frequency\n",
       "14              #foodporn         20\n",
       "16            #streetfood         15\n",
       "80         #foodtalkindia         12\n",
       "31                #foodie         10\n",
       "24           #sanjyotkeer         10\n",
       "..                    ...        ...\n",
       "1    #Black_Gold_platinum          1\n",
       "97                  #dosa          1\n",
       "75            #amulbutter          1\n",
       "74                #butter          1\n",
       "195            #yummyfood          1\n",
       "\n",
       "[196 rows x 2 columns]"
      ]
     },
     "execution_count": 44,
     "metadata": {},
     "output_type": "execute_result"
    }
   ],
   "source": [
    "df= df.sort_values('Frequency', ascending= False)\n",
    "df"
   ]
  },
  {
   "cell_type": "code",
   "execution_count": 45,
   "metadata": {},
   "outputs": [],
   "source": [
    "#using .to_csv pandas function to convert dataframe to csv\n",
    "df.to_csv('instaBot_words_frequency.csv',index=False)"
   ]
  },
  {
   "cell_type": "markdown",
   "metadata": {},
   "source": [
    "## most used hashtag"
   ]
  },
  {
   "cell_type": "code",
   "execution_count": 46,
   "metadata": {},
   "outputs": [
    {
     "data": {
      "text/plain": [
       "'#foodporn'"
      ]
     },
     "execution_count": 46,
     "metadata": {},
     "output_type": "execute_result"
    }
   ],
   "source": [
    "df.iloc[0].Hashtag"
   ]
  },
  {
   "cell_type": "markdown",
   "metadata": {},
   "source": [
    "## pie chart"
   ]
  },
  {
   "cell_type": "code",
   "execution_count": 54,
   "metadata": {},
   "outputs": [],
   "source": [
    "hashtag_name=[]\n",
    "count=[]\n",
    "for i in df['Hashtag'].iloc[0:5]:\n",
    "    hashtag_name.append(i)\n",
    "\n",
    "for i in df['Frequency'].iloc[0:5]:\n",
    "    count.append(i)"
   ]
  },
  {
   "cell_type": "code",
   "execution_count": 127,
   "metadata": {},
   "outputs": [
    {
     "data": {
      "text/plain": [
       "Text(0.5, 1.0, 'Top 5 Hashtags used by bloggers ')"
      ]
     },
     "execution_count": 127,
     "metadata": {},
     "output_type": "execute_result"
    },
    {
     "data": {
      "image/png": "[encoded data removed]",
      "text/plain": [
       "<Figure size 864x432 with 1 Axes>"
      ]
     },
     "metadata": {},
     "output_type": "display_data"
    }
   ],
   "source": [
    "plt.figure(figsize=(12,6))\n",
    "plt.pie(count,labels=hashtag_name,autopct='%0.2f%%',radius=1,counterclock=False, colors=['lightgreen', 'pink','purple','violet','magenta'])\n",
    "plt.title('Top 5 Hashtags used by bloggers ',fontsize=20, color='red',alpha=0.8)"
   ]
  },
  {
   "cell_type": "markdown",
   "metadata": {},
   "source": [
    "# Problem 3"
   ]
  },
  {
   "cell_type": "markdown",
   "metadata": {},
   "source": [
    "## likes on recent 10 posts"
   ]
  },
  {
   "cell_type": "code",
   "execution_count": 118,
   "metadata": {},
   "outputs": [],
   "source": [
    "def get_likes(user):\n",
    "\n",
    "    likes = []\n",
    "    #This fuction will search a user and open that profile\n",
    "    search_open(user)\n",
    "\n",
    "    #locating the first post of the user\n",
    "    post1 = wait.until(EC.presence_of_element_located((By.CLASS_NAME,'_9AhH0')))\n",
    "    post1.click()\n",
    "        \n",
    "    for post in range(10):\n",
    "                \n",
    "        try : \n",
    "            #for getting like on video we need to first click on view then only we can like\n",
    "            views = wait.until(EC.presence_of_element_located((By.CLASS_NAME,'vcOH2')))\n",
    "            views.click()\n",
    "            time.sleep(1)\n",
    "                    \n",
    "            #locating like and clicking on it\n",
    "            like = driver.find_element_by_class_name('vJRqr')\n",
    "            no_of_likes = (like.text).split()[0].replace(',' , '')\n",
    "            likes.append(int(no_of_likes))\n",
    "            time.sleep(1)\n",
    "                    \n",
    "        #if the post is image then this part will execute \n",
    "        except TimeoutException :\n",
    "            like = driver.find_element_by_xpath('//div[@class= \"Nm9Fw\"]/a')\n",
    "            no_of_likes = (like.text).split()[0].replace(',' , '')\n",
    "            likes.append(int(no_of_likes))\n",
    "            time.sleep(1)\n",
    "        \n",
    "        #locating and clicking on next button\n",
    "        next_= driver.find_element_by_xpath('//div[starts-with(@class, \" l8mY4\")]//div')\n",
    "        next_.click()\n",
    "        time.sleep(1)\n",
    "                \n",
    "    #locating close button and clicking on it\n",
    "    close=driver.find_element_by_class_name('qF0y9.Igw0E.IwRSH.eGOV_._4EzTm.BI4qX.qJPeX.fm1AK.TxciK.yiMZG')\n",
    "    close.click()\n",
    "    time.sleep(2)\n",
    "                                \n",
    "\n",
    "                \n",
    "    return likes\n"
   ]
  },
  {
   "cell_type": "code",
   "execution_count": 119,
   "metadata": {},
   "outputs": [
    {
     "name": "stdout",
     "output_type": "stream",
     "text": [
      "Number of likes of the top 10 posts of foodnetwork :\n",
      "627 Likes\n",
      "3485 Likes\n",
      "2093 Likes\n",
      "2438 Likes\n",
      "3936 Likes\n",
      "2335 Likes\n",
      "2114 Likes\n",
      "1610 Likes\n",
      "9518 Likes\n",
      "3519 Likes\n",
      "\n",
      "Number of likes of the top 10 posts of yourfoodlab :\n",
      "22183 Likes\n",
      "7818 Likes\n",
      "11005 Likes\n",
      "13084 Likes\n",
      "69602 Likes\n",
      "22886 Likes\n",
      "9662 Likes\n",
      "21529 Likes\n",
      "18777 Likes\n",
      "13214 Likes\n",
      "\n",
      "Number of likes of the top 10 posts of dilsefoodie :\n",
      "8601 Likes\n",
      "4173 Likes\n",
      "4767 Likes\n",
      "25602 Likes\n",
      "10458 Likes\n",
      "16392 Likes\n",
      "22880 Likes\n",
      "2058 Likes\n",
      "8806 Likes\n",
      "9254 Likes\n",
      "\n",
      "Number of likes of the top 10 posts of foodie_incarnate :\n",
      "18119 Likes\n",
      "15697 Likes\n",
      "30552 Likes\n",
      "42130 Likes\n",
      "21420 Likes\n",
      "190409 Likes\n",
      "34329 Likes\n",
      "32467 Likes\n",
      "91123 Likes\n",
      "19138 Likes\n",
      "\n",
      "Number of likes of the top 10 posts of foodtalkindia :\n",
      "143 Likes\n",
      "166 Likes\n",
      "811 Likes\n",
      "208 Likes\n",
      "278 Likes\n",
      "97 Likes\n",
      "108 Likes\n",
      "137 Likes\n",
      "1032 Likes\n",
      "408 Likes\n",
      "\n"
     ]
    }
   ],
   "source": [
    "dct = {}\n",
    "for user in handles : \n",
    "    likes = get_likes(user)\n",
    "    dct[user] = likes\n",
    "    print('Number of likes of the top 10 posts of',user,':')\n",
    "    for i in likes :\n",
    "        print(i,'Likes')\n",
    "    print()\n",
    "\n"
   ]
  },
  {
   "cell_type": "markdown",
   "metadata": {},
   "source": [
    "## average likes for a handle."
   ]
  },
  {
   "cell_type": "code",
   "execution_count": 120,
   "metadata": {},
   "outputs": [],
   "source": [
    "#This function will return a dictionary of {'username':average like}\n",
    "def get_avg_likes(d):\n",
    "    avg_likes = {}\n",
    "    for key,val in d.items():\n",
    "            avg = sum(val) // 10\n",
    "            avg_likes[key] = avg\n",
    "    return avg_likes"
   ]
  },
  {
   "cell_type": "code",
   "execution_count": 121,
   "metadata": {},
   "outputs": [
    {
     "name": "stdout",
     "output_type": "stream",
     "text": [
      "Average likes for each handle are :\n",
      "foodnetwork : 3167\n",
      "yourfoodlab : 20976\n",
      "dilsefoodie : 11299\n",
      "foodie_incarnate : 49538\n",
      "foodtalkindia : 338\n"
     ]
    }
   ],
   "source": [
    "avg_likes = get_avg_likes(dct)\n",
    "\n",
    "print('Average likes for each handle are :')\n",
    "for user,likes in avg_likes.items():\n",
    "    print(user, ':', likes)\n"
   ]
  },
  {
   "cell_type": "markdown",
   "metadata": {},
   "source": [
    "## average followers:like ratio of each handle"
   ]
  },
  {
   "cell_type": "code",
   "execution_count": 122,
   "metadata": {},
   "outputs": [],
   "source": [
    "#This function will return dictionary of {'username':avg followers-like ratio}\n",
    "def getavg_foll_like_ratio(top_handles,avg_like,users):\n",
    "    foll_like = {}\n",
    "    for i in range(5) :\n",
    "        foll_like[users[i]] = top_handles[users[i]]//avg_like[users[i]]\n",
    "    return foll_like"
   ]
  },
  {
   "cell_type": "code",
   "execution_count": 123,
   "metadata": {},
   "outputs": [
    {
     "name": "stdout",
     "output_type": "stream",
     "text": [
      "Average followers:like ratio of each handle :\n",
      "foodnetwork : 3842\n",
      "yourfoodlab : 87\n",
      "dilsefoodie : 83\n",
      "foodie_incarnate : 18\n",
      "foodtalkindia : 909\n"
     ]
    }
   ],
   "source": [
    "#here I am using the answer of problem 1.1 which contains a dictionary of {'username':followers} ie top_handles\n",
    "#extracing username from top_handles\n",
    "top_handles_names = list(top_handles.keys())\n",
    "#now calling function getavg_foll_like_ratio(top_handles,avg_like,users) \n",
    "avg_fol_like_ratio = getavg_foll_like_ratio(top_handles, avg_likes, top_handles_names)\n",
    "print('Average followers:like ratio of each handle :')\n",
    "for user,ratio in avg_fol_like_ratio.items():\n",
    "    print(user, ':', ratio)\n"
   ]
  },
  {
   "cell_type": "markdown",
   "metadata": {},
   "source": [
    "## bar graphs"
   ]
  },
  {
   "cell_type": "code",
   "execution_count": 125,
   "metadata": {},
   "outputs": [
    {
     "data": {
      "image/png": "[encoded data removed]",
      "text/plain": [
       "<Figure size 576x432 with 1 Axes>"
      ]
     },
     "metadata": {
      "needs_background": "light"
     },
     "output_type": "display_data"
    }
   ],
   "source": [
    "username = list(avg_likes.keys())\n",
    "avg_like = list(avg_likes.values())\n",
    "\n",
    "plt.figure(figsize=(8, 6))\n",
    "plt.bar(username,avg_like,color='lightblue',alpha=0.6)\n",
    "plt.ylabel(\"Average Likes\",size=15)\n",
    "plt.xlabel(\"Handle's Name\",size=15)\n",
    "plt.title('Average like for each handle ',fontsize=20, color='lightblue',alpha=0.8)\n",
    "plt.grid()\n"
   ]
  },
  {
   "cell_type": "code",
   "execution_count": 128,
   "metadata": {},
   "outputs": [
    {
     "data": {
      "image/png": "[encoded data removed]",
      "text/plain": [
       "<Figure size 576x432 with 1 Axes>"
      ]
     },
     "metadata": {
      "needs_background": "light"
     },
     "output_type": "display_data"
    }
   ],
   "source": [
    "username = list(avg_fol_like_ratio.keys())\n",
    "avg_like = list(avg_fol_like_ratio.values())\n",
    "\n",
    "plt.figure(figsize=(8, 6))\n",
    "plt.bar(username,avg_like,color='Indigo',alpha=0.6)\n",
    "plt.ylabel(\"Average Followers:Like Ratio\",size=12)\n",
    "plt.xlabel(\"Handle's Name\",size=12)\n",
    "plt.title('Average Followers:Like Ratio of Each Handle ',fontsize=20, color='Indigo',alpha=0.8)\n",
    "plt.grid()\n"
   ]
  },
  {
   "cell_type": "code",
   "execution_count": null,
   "metadata": {},
   "outputs": [],
   "source": []
  }
 ],
 "metadata": {
  "kernelspec": {
   "display_name": "Python 3",
   "language": "python",
   "name": "python3"
  },
  "language_info": {
   "codemirror_mode": {
    "name": "ipython",
    "version": 3
   },
   "file_extension": ".py",
   "mimetype": "text/x-python",
   "name": "python",
   "nbconvert_exporter": "python",
   "pygments_lexer": "ipython3",
   "version": "3.8.8"
  }
 },
 "nbformat": 4,
 "nbformat_minor": 4
}
